{
 "cells": [
  {
   "cell_type": "code",
   "execution_count": 2,
   "metadata": {
    "collapsed": true
   },
   "outputs": [],
   "source": [
    "import seaborn; seaborn.set()\n",
    "%matplotlib inline\n",
    "import networkx as nx\n",
    "import matplotlib.pyplot as plt\n",
    "import pylab\n",
    "import math"
   ]
  },
  {
   "cell_type": "code",
   "execution_count": 27,
   "metadata": {
    "collapsed": true
   },
   "outputs": [],
   "source": [
    "def display_graph(G, partition_list=None, pos=None):\n",
    "    if pos is None:\n",
    "        pos = nx.spring_layout(G)\n",
    "    if partition_list is None:\n",
    "        nx.draw_networkx_nodes(G, pos, G.nodes(), node_size=240, node_color='0.5')\n",
    "    else:\n",
    "        count = 0\n",
    "        parts = len(partition_list)\n",
    "        for p in partition_list:\n",
    "            count+=1\n",
    "            nx.draw_networkx_nodes(G, pos, p, node_size=240, node_color=str(count/float(parts)))\n",
    "    plt.axis('off')\n",
    "    frame = plt.gca()\n",
    "    frame.set_aspect('equal', adjustable='box')\n",
    "    # frame.axes.xaxis.set_ticklabels([])\n",
    "    # frame.axes.yaxis.set_ticklabels([])\n",
    "    frame.axes.get_xaxis().set_visible(False)\n",
    "    frame.axes.get_yaxis().set_visible(False)\n",
    "    nx.draw_networkx_edges(G,pos, alpha=0.5)\n",
    "    labels = {i:'${}$'.format(i) for i in G.nodes()}\n",
    "    nx.draw_networkx_labels(G, pos, labels)\n",
    "    plt.show()"
   ]
  },
  {
   "cell_type": "code",
   "execution_count": 36,
   "metadata": {
    "collapsed": true
   },
   "outputs": [],
   "source": [
    "G = nx.Graph()\n",
    "G.add_nodes_from(xrange(1,11))\n",
    "G.nodes()\n",
    "G.add_edges_from([[1,2], [1,10], [2,10], [2,3], [2,9], [3,9], [3,10], [9,10]])\n",
    "G.edges()\n",
    "G.add_edges_from([[4,5], [5,8], [8,4], [5,6], [6,7], [7,8]])\n",
    "G.add_edge(3,4)\n",
    "parts = 2"
   ]
  },
  {
   "cell_type": "code",
   "execution_count": 40,
   "metadata": {
    "collapsed": true
   },
   "outputs": [],
   "source": [
    "pos = {\n",
    "    1:(-math.sqrt(3), 1),\n",
    "    2:(0,2),\n",
    "    3:(2,2),\n",
    "    4:(4,2),\n",
    "    5:(6,2),\n",
    "    6:(6+math.sqrt(3),1),\n",
    "    7:(6,0),\n",
    "    8:(4,0),\n",
    "    9:(2,0),\n",
    "    10:(0,0)\n",
    "}"
   ]
  },
  {
   "cell_type": "code",
   "execution_count": 6,
   "metadata": {
    "collapsed": false
   },
   "outputs": [
    {
     "data": {
      "image/png": "[encoded data removed]",
      "text/plain": [
       "<matplotlib.figure.Figure at 0x7fa8b284c050>"
      ]
     },
     "metadata": {},
     "output_type": "display_data"
    }
   ],
   "source": [
    "display_graph(G, None, pos)"
   ]
  },
  {
   "cell_type": "code",
   "execution_count": 29,
   "metadata": {
    "collapsed": false
   },
   "outputs": [
    {
     "data": {
      "image/png": "[encoded data removed]",
      "text/plain": [
       "<matplotlib.figure.Figure at 0x7fa8b1d5cb90>"
      ]
     },
     "metadata": {},
     "output_type": "display_data"
    }
   ],
   "source": [
    "import community\n",
    "def get_cd_partition(G):\n",
    "    partition = community.best_partition(G)\n",
    "    size = float(len(set(partition.values())))\n",
    "    cd_partition_dict = {}\n",
    "    for k in partition:\n",
    "        v = partition[k]\n",
    "        if v not in cd_partition_dict:\n",
    "            cd_partition_dict[v] = [k]\n",
    "        else:\n",
    "            cd_partition_dict[v].append(k)\n",
    "    cd_partition_list = [cd_partition_dict[k] for k in cd_partition_dict]\n",
    "    return cd_partition_list\n",
    "cd_partition_list = get_cd_partition(G)\n",
    "display_graph(G, cd_partition_list, pos)"
   ]
  },
  {
   "cell_type": "code",
   "execution_count": 41,
   "metadata": {
    "collapsed": false
   },
   "outputs": [
    {
     "data": {
      "image/png": "[encoded data removed]",
      "text/plain": [
       "<matplotlib.figure.Figure at 0x7fa8b1daa050>"
      ]
     },
     "metadata": {},
     "output_type": "display_data"
    }
   ],
   "source": [
    "import nxmetis\n",
    "def get_metis_partition(G, parts):\n",
    "    edgecuts, partition_list =  nxmetis.partition(G, parts)\n",
    "    return partition_list\n",
    "partition_list = get_metis_partition(G, parts)    \n",
    "display_graph(G, partition_list, pos)"
   ]
  },
  {
   "cell_type": "code",
   "execution_count": 35,
   "metadata": {
    "collapsed": false
   },
   "outputs": [
    {
     "name": "stdout",
     "output_type": "stream",
     "text": [
      "[['c', 'i', 'b', 'e', 'j'], ['d', 'f', 'g', 'a', 'h']]\n"
     ]
    },
    {
     "data": {
      "image/png": "[encoded data removed]",
      "text/plain": [
       "<matplotlib.figure.Figure at 0x7fa8b187f290>"
      ]
     },
     "metadata": {},
     "output_type": "display_data"
    }
   ],
   "source": [
    "import random\n",
    "\n",
    "def get_rd_partition(G, parts):\n",
    "    node_list = G.nodes()\n",
    "    random.shuffle(node_list)\n",
    "    def chunks(l, n):\n",
    "        for i in xrange(0, len(l), n):\n",
    "            yield l[i:i+n]\n",
    "    random_partition_list = list(chunks(node_list, len(node_list)/parts))\n",
    "    return random_partition_list\n",
    "    \n",
    "random_partition_list = get_rd_partition(G, parts)\n",
    "display_graph(G, random_partition_list, pos)"
   ]
  },
  {
   "cell_type": "code",
   "execution_count": 55,
   "metadata": {
    "collapsed": false
   },
   "outputs": [
    {
     "data": {
      "image/png": "[encoded data removed]",
      "text/plain": [
       "<matplotlib.figure.Figure at 0x7fa8b19ad4d0>"
      ]
     },
     "metadata": {},
     "output_type": "display_data"
    }
   ],
   "source": [
    "cbg = nx.complete_bipartite_graph(3,5)\n",
    "display_graph(cbg)"
   ]
  },
  {
   "cell_type": "code",
   "execution_count": 42,
   "metadata": {
    "collapsed": true
   },
   "outputs": [],
   "source": [
    "G = nx.Graph()\n",
    "G.add_nodes_from('abcdefghij')\n",
    "G.add_edges_from([['a', 'b'], ['a', 'c'], ['b', 'd'], ['c', 'd'], ['c', 'e'], ['c', 'f'], ['d', 'e'], ['d', 'f'], \n",
    "                 ['e', 'g'], ['e', 'i'], ['f', 'h'], ['g', 'h'], ['g', 'i'], ['g', 'j'], ['h', 'j']])\n",
    "pos = {\n",
    "    'a':(0,1),\n",
    "    'b':(0,0),\n",
    "    'c':(1,1),\n",
    "    'd':(1,0),\n",
    "    'e':(2,1),\n",
    "    'f':(2,0),\n",
    "    'g':(3,1),\n",
    "    'h':(3,0),\n",
    "    'i':(4,1),\n",
    "    'j':(4,0)\n",
    "}"
   ]
  },
  {
   "cell_type": "code",
   "execution_count": 47,
   "metadata": {
    "collapsed": false
   },
   "outputs": [
    {
     "data": {
      "image/png": "[encoded data removed]",
      "text/plain": [
       "<matplotlib.figure.Figure at 0x7fa8b1b54910>"
      ]
     },
     "metadata": {},
     "output_type": "display_data"
    }
   ],
   "source": [
    "display_graph(G, None, pos)"
   ]
  },
  {
   "cell_type": "code",
   "execution_count": 50,
   "metadata": {
    "collapsed": false
   },
   "outputs": [
    {
     "data": {
      "image/png": "[encoded data removed]",
      "text/plain": [
       "<matplotlib.figure.Figure at 0x7fa8b18a6c50>"
      ]
     },
     "metadata": {},
     "output_type": "display_data"
    }
   ],
   "source": [
    "metis_partition_list =  get_metis_partition(G, parts)\n",
    "display_graph(G, partition_list, pos)"
   ]
  },
  {
   "cell_type": "code",
   "execution_count": 49,
   "metadata": {
    "collapsed": false
   },
   "outputs": [
    {
     "data": {
      "image/png": "[encoded data removed]",
      "text/plain": [
       "<matplotlib.figure.Figure at 0x7fa8b1aa9410>"
      ]
     },
     "metadata": {},
     "output_type": "display_data"
    }
   ],
   "source": [
    "cd_partition_list = get_cd_partition(G)\n",
    "display_graph(G, cd_partition_list, pos)"
   ]
  },
  {
   "cell_type": "code",
   "execution_count": 51,
   "metadata": {
    "collapsed": false
   },
   "outputs": [
    {
     "data": {
      "image/png": "[encoded data removed]",
      "text/plain": [
       "<matplotlib.figure.Figure at 0x7fa8b179b890>"
      ]
     },
     "metadata": {},
     "output_type": "display_data"
    }
   ],
   "source": [
    "rd_partition_list = get_rd_partition(G, parts)\n",
    "display_graph(G, rd_partition_list, pos)"
   ]
  },
  {
   "cell_type": "code",
   "execution_count": null,
   "metadata": {
    "collapsed": true
   },
   "outputs": [],
   "source": []
  }
 ],
 "metadata": {
  "kernelspec": {
   "display_name": "Python 2",
   "language": "python",
   "name": "python2"
  },
  "language_info": {
   "codemirror_mode": {
    "name": "ipython",
    "version": 2
   },
   "file_extension": ".py",
   "mimetype": "text/x-python",
   "name": "python",
   "nbconvert_exporter": "python",
   "pygments_lexer": "ipython2",
   "version": "2.7.9"
  }
 },
 "nbformat": 4,
 "nbformat_minor": 0
}
